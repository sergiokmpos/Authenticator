{
  "nbformat": 4,
  "nbformat_minor": 0,
  "metadata": {
    "colab": {
      "provenance": [],
      "collapsed_sections": [
        "wDdLE7RImtYm"
      ],
      "authorship_tag": "ABX9TyMSc166lIr7zXakwMznqaJ4",
      "include_colab_link": true
    },
    "kernelspec": {
      "name": "python3",
      "display_name": "Python 3"
    },
    "language_info": {
      "name": "python"
    }
  },
  "cells": [
    {
      "cell_type": "markdown",
      "metadata": {
        "id": "view-in-github",
        "colab_type": "text"
      },
      "source": [
        "<a href=\"https://colab.research.google.com/github/sergiokmpos/Authenticator/blob/main/ManufacturingPY.ipynb\" target=\"_parent\"><img src=\"https://colab.research.google.com/assets/colab-badge.svg\" alt=\"Open In Colab\"/></a>"
      ]
    },
    {
      "cell_type": "markdown",
      "source": [
        "# Functions"
      ],
      "metadata": {
        "id": "wDdLE7RImtYm"
      }
    },
    {
      "cell_type": "code",
      "source": [
        "def efficiency(actual_output, max_possible_output):\n",
        "    \"\"\"\n",
        "    Calculate the efficiency of a production line.\n",
        "\n",
        "    Arguments:\n",
        "    actual_output (float): The actual output from the production line.\n",
        "    max_possible_output (float): The maximum possible output from the production line.\n",
        "\n",
        "    Returns:\n",
        "    float: The efficiency of the production line as a percentage.\n",
        "    \"\"\"\n",
        "    if max_possible_output == 0:\n",
        "        return 0\n",
        "    else:\n",
        "        efficiency = (actual_output / max_possible_output) * 100\n",
        "        return efficiency\n"
      ],
      "metadata": {
        "id": "VS48JXbQ5jHO"
      },
      "execution_count": null,
      "outputs": []
    },
    {
      "cell_type": "code",
      "execution_count": null,
      "metadata": {
        "id": "JmdP29QYrkri"
      },
      "outputs": [],
      "source": [
        "def takt_time(available_working_hours, unit_available_working_hours, customer_demand, tack_time_time_unit='s'):\n",
        "    \"\"\"\n",
        "    Takt Time for a production line.\n",
        "\n",
        "    Arguments:\n",
        "     1 - production_time (float): The production time available in production_time unit.\n",
        "     2 - production_time_unit (str): The time unit of production_time. It should be 'seconds', 'minutes' or 'hours'.\n",
        "     3 - customer_demand (float): Customer demand.\n",
        "     4 - result_time_unit (str, optional): The desired time unit for the result. It should be 'seconds', 'minutes' or 'hours'. Default is 'seconds'.\n",
        "\n",
        "    Return:\n",
        "    takt_time (float): The Takt Time calculated in the result_time_unit.\n",
        "    \"\"\"\n",
        "    # Seconds is standard, Convert to desired time unit\n",
        "    if unit_available_working_hours == 'm':\n",
        "        available_working_hours = available_working_hours * 60\n",
        "    elif unit_available_working_hours == 'h':\n",
        "        available_working_hours = available_working_hours * 3600\n",
        "\n",
        "    takt_time = available_working_hours / customer_demand\n",
        "\n",
        "    # Convert Takt Time to desired time unit\n",
        "    if tack_time_time_unit == 'm':\n",
        "        takt_time = takt_time / 60\n",
        "    elif tack_time_time_unit == 'h':\n",
        "        takt_time = takt_time / 3600\n",
        "\n",
        "    return takt_time"
      ]
    },
    {
      "cell_type": "code",
      "source": [
        "def muda_explain(muda_type):\n",
        "    \"\"\"\n",
        "    Provide an explanation for a given type of MUDA.\n",
        "\n",
        "    Parameters:\n",
        "    muda_type (str): The type of MUDA to explain. This should be one of the following: 'Defects', 'Overproduction', 'Waiting', 'Transport', 'Motion', 'Overprocessing', 'Inventory'.\n",
        "\n",
        "    Returns:\n",
        "    str: The explanation of the given MUDA type.\n",
        "    \"\"\"\n",
        "    muda_explanations = {\n",
        "        'Defects': 'Products or services that do not meet quality standards and need to be corrected or redone.',\n",
        "        'Overproduction': 'Producing more than is necessary to meet customer demand.',\n",
        "        'Waiting': 'Idle time while waiting for materials, information, equipment, etc.',\n",
        "        'Transport': 'Unnecessary movement of materials or products within the company.',\n",
        "        'Motion': 'Unnecessary movements of people or equipment that do not add value to the product or service.',\n",
        "        'Overprocessing': 'Use of more complex processes, procedures, or equipment than necessary.',\n",
        "        'Inventory': 'Excessive storage of products, components, or materials.'\n",
        "    }\n",
        "\n",
        "    return muda_explanations.get(muda_type, 'Invalid MUDA type. Please enter one of the following: Defects, Overproduction, Waiting, Transport, Motion, Overprocessing, Inventory.')\n"
      ],
      "metadata": {
        "id": "1iH_a9gm8ELE"
      },
      "execution_count": null,
      "outputs": []
    },
    {
      "cell_type": "code",
      "source": [
        "def muda_list(muda_index=None):\n",
        "    \"\"\"\n",
        "    List the types of MUDA.\n",
        "\n",
        "    Parameters:\n",
        "    muda_index (int, optional): The index of the MUDA type to return. If not provided, all MUDA types are returned.\n",
        "\n",
        "    Returns:\n",
        "    str or list: The name of the MUDA type if an index is provided, otherwise a list of all MUDA types.\n",
        "    \"\"\"\n",
        "    muda_types = ['Defects', 'Overproduction', 'Waiting', 'Transport', 'Motion', 'Overprocessing', 'Inventory']\n",
        "\n",
        "    if muda_index is None:\n",
        "        return muda_types\n",
        "    elif 0 <= muda_index < len(muda_types):\n",
        "        return muda_types[muda_index]\n",
        "    else:\n",
        "        return 'Invalid MUDA index. Please enter a number between 0 and 6.'\n"
      ],
      "metadata": {
        "id": "A4utRk8M9-5c"
      },
      "execution_count": null,
      "outputs": []
    },
    {
      "cell_type": "code",
      "source": [
        "def oee(operating_time=None, planned_production_time=None, total_pieces_produced=None, ideal_cycle_time=None, good_pieces=None, metric='oee'):\n",
        "    \"\"\"\n",
        "    Calculate the Overall Equipment Effectiveness (OEE), Availability, Performance, or Quality.\n",
        "\n",
        "    Arguments:\n",
        "    operating_time (float, optional): The actual operating time.\n",
        "    planned_production_time (float, optional): The planned production time.\n",
        "    total_pieces_produced (int, optional): The total number of pieces produced.\n",
        "    ideal_cycle_time (float, optional): The ideal cycle time for producing one piece.\n",
        "    good_pieces (int, optional): The number of good pieces produced.\n",
        "    metric (str, optional): The metric to return. Must be 'oee', 'availability', 'performance', or 'quality'. Default is 'oee'.\n",
        "\n",
        "    Returns:\n",
        "    result (float or str): The calculated OEE, Availability, Performance, or Quality, or the descriptions of the three components if no parameters are provided.\n",
        "    \"\"\"\n",
        "    if operating_time is None or planned_production_time is None or total_pieces_produced is None or ideal_cycle_time is None or good_pieces is None:\n",
        "        return \"The OEE is composed of three components: Availability, Performance, and Quality. Availability measures the proportion of the planned production time that is actually productive. Performance reflects the speed at which your production line operates compared to its maximum speed. Quality shows the quality of the pieces you are producing.\"\n",
        "\n",
        "    # Calculate Availability\n",
        "    availability = operating_time / planned_production_time\n",
        "\n",
        "    # Calculate Performance\n",
        "    performance = (total_pieces_produced * ideal_cycle_time) / operating_time\n",
        "\n",
        "    # Calculate Quality\n",
        "    quality = good_pieces / total_pieces_produced\n",
        "\n",
        "    # Calculate OEE\n",
        "    oee = availability * performance * quality\n",
        "\n",
        "    # Return the requested metric\n",
        "    if metric == 'availability':\n",
        "        return availability\n",
        "    elif metric == 'performance':\n",
        "        return performance\n",
        "    elif metric == 'quality':\n",
        "        return quality\n",
        "    else:\n",
        "        return oee\n"
      ],
      "metadata": {
        "id": "5u32nq7v-GNK"
      },
      "execution_count": null,
      "outputs": []
    },
    {
      "cell_type": "code",
      "source": [
        "def six_sigma(defects, opportunities, units):\n",
        "    \"\"\"\n",
        "    Calculate the Six Sigma level of a process given the number of defects, opportunities, and units.\n",
        "\n",
        "    Args:\n",
        "    defects (int): The total number of defects found in the process.\n",
        "    opportunities (int): The total number of opportunities for a defect to occur per unit. Its possible more than one per produced unit\n",
        "    units (int): The total number of units.\n",
        "\n",
        "    Returns:\n",
        "    tuple: A tuple containing the DPMO and the corresponding Sigma level.\n",
        "    \"\"\"\n",
        "\n",
        "    # Calculate DPMO\n",
        "    dpmo = (defects / (opportunities * units)) * 1_000_000\n",
        "\n",
        "    # Convert DPMO to Sigma level using a standard conversion table\n",
        "    if dpmo > 308537:\n",
        "        sigma_level = 1\n",
        "    elif dpmo > 69767:\n",
        "        sigma_level = 2\n",
        "    elif dpmo > 6210:\n",
        "        sigma_level = 3\n",
        "    elif dpmo > 233:\n",
        "        sigma_level = 4\n",
        "    elif dpmo > 3.4:\n",
        "        sigma_level = 5\n",
        "    else:\n",
        "        sigma_level = 6\n",
        "\n",
        "    return dpmo, sigma_level"
      ],
      "metadata": {
        "id": "BK3TB7TDGHU7"
      },
      "execution_count": null,
      "outputs": []
    },
    {
      "cell_type": "markdown",
      "source": [
        "# Code"
      ],
      "metadata": {
        "id": "FWnZLuXOmzW9"
      }
    },
    {
      "cell_type": "markdown",
      "source": [
        "**Eficiencia**"
      ],
      "metadata": {
        "id": "4nLmyydPLP7o"
      }
    },
    {
      "cell_type": "code",
      "source": [
        "efficiency(100,150) #(actual_output, max_possible_output):"
      ],
      "metadata": {
        "colab": {
          "base_uri": "https://localhost:8080/"
        },
        "id": "EqHud8Zm5imM",
        "outputId": "94bda06d-5f45-418b-d738-0f531091f341"
      },
      "execution_count": null,
      "outputs": [
        {
          "output_type": "execute_result",
          "data": {
            "text/plain": [
              "66.66666666666666"
            ]
          },
          "metadata": {},
          "execution_count": 7
        }
      ]
    },
    {
      "cell_type": "markdown",
      "source": [
        "**Takt Time**"
      ],
      "metadata": {
        "id": "IVjV46_ELWMj"
      }
    },
    {
      "cell_type": "code",
      "source": [
        "takt_time(16.5, 'h', 300, 's') #(available_working_hours, unit_available_working_hours, customer_demand, tack_time_time_unit='s')"
      ],
      "metadata": {
        "id": "7Pwqsh_RmyNE",
        "colab": {
          "base_uri": "https://localhost:8080/"
        },
        "outputId": "00b51e81-8697-4397-dc00-6d9e8b0ad2fe"
      },
      "execution_count": null,
      "outputs": [
        {
          "output_type": "execute_result",
          "data": {
            "text/plain": [
              "198.0"
            ]
          },
          "metadata": {},
          "execution_count": 8
        }
      ]
    },
    {
      "cell_type": "markdown",
      "source": [
        "**MUDA - Lista e Significado**"
      ],
      "metadata": {
        "id": "xsRaD-WZLbLP"
      }
    },
    {
      "cell_type": "code",
      "source": [
        "muda_list() #no argument is needed"
      ],
      "metadata": {
        "colab": {
          "base_uri": "https://localhost:8080/"
        },
        "id": "VSwGIMjB9ATH",
        "outputId": "6692af4f-016f-46c7-c9a9-ad64de04c4ca"
      },
      "execution_count": null,
      "outputs": [
        {
          "output_type": "execute_result",
          "data": {
            "text/plain": [
              "['Defects',\n",
              " 'Overproduction',\n",
              " 'Waiting',\n",
              " 'Transport',\n",
              " 'Motion',\n",
              " 'Overprocessing',\n",
              " 'Inventory']"
            ]
          },
          "metadata": {},
          "execution_count": 9
        }
      ]
    },
    {
      "cell_type": "code",
      "source": [
        "worst_muda = muda_list(1) #number, sequence in a list\n",
        "print(worst_muda)"
      ],
      "metadata": {
        "colab": {
          "base_uri": "https://localhost:8080/"
        },
        "id": "0y2r7vJb-SjA",
        "outputId": "5c654b81-1023-44af-8036-4342aefeb96a"
      },
      "execution_count": null,
      "outputs": [
        {
          "output_type": "stream",
          "name": "stdout",
          "text": [
            "Overproduction\n"
          ]
        }
      ]
    },
    {
      "cell_type": "code",
      "source": [
        "muda_explain(worst_muda) #muda from a muda list"
      ],
      "metadata": {
        "colab": {
          "base_uri": "https://localhost:8080/",
          "height": 36
        },
        "id": "pda6IlH8-Xt8",
        "outputId": "3f80b34c-e546-47bd-80a7-c2c9e888c0be"
      },
      "execution_count": null,
      "outputs": [
        {
          "output_type": "execute_result",
          "data": {
            "text/plain": [
              "'Producing more than is necessary to meet customer demand.'"
            ],
            "application/vnd.google.colaboratory.intrinsic+json": {
              "type": "string"
            }
          },
          "metadata": {},
          "execution_count": 11
        }
      ]
    },
    {
      "cell_type": "markdown",
      "source": [
        "**OEE**"
      ],
      "metadata": {
        "id": "J00KF-N3LiGu"
      }
    },
    {
      "cell_type": "code",
      "source": [
        "oee()  #no argument is needed"
      ],
      "metadata": {
        "colab": {
          "base_uri": "https://localhost:8080/",
          "height": 54
        },
        "id": "iDJ_ikBOI8ii",
        "outputId": "c30b595e-3c32-49c7-9e73-71eb9c6960e3"
      },
      "execution_count": null,
      "outputs": [
        {
          "output_type": "execute_result",
          "data": {
            "text/plain": [
              "'The OEE is composed of three components: Availability, Performance, and Quality. Availability measures the proportion of the planned production time that is actually productive. Performance reflects the speed at which your production line operates compared to its maximum speed. Quality shows the quality of the pieces you are producing.'"
            ],
            "application/vnd.google.colaboratory.intrinsic+json": {
              "type": "string"
            }
          },
          "metadata": {},
          "execution_count": 12
        }
      ]
    },
    {
      "cell_type": "code",
      "source": [
        "oee(16, 15, 100, 5, 5, 'availability')"
      ],
      "metadata": {
        "colab": {
          "base_uri": "https://localhost:8080/"
        },
        "id": "AR5NdhjVI1cY",
        "outputId": "aa35c216-1307-49f1-a2a9-5e787d5796e3"
      },
      "execution_count": null,
      "outputs": [
        {
          "output_type": "execute_result",
          "data": {
            "text/plain": [
              "1.0666666666666667"
            ]
          },
          "metadata": {},
          "execution_count": 13
        }
      ]
    },
    {
      "cell_type": "code",
      "source": [
        "oee(16, 15, 100, 5, 5, 'performance')"
      ],
      "metadata": {
        "colab": {
          "base_uri": "https://localhost:8080/"
        },
        "id": "Xr8-nWBwKWCu",
        "outputId": "494c36cf-712a-4712-c496-84ea5b1d283f"
      },
      "execution_count": null,
      "outputs": [
        {
          "output_type": "execute_result",
          "data": {
            "text/plain": [
              "31.25"
            ]
          },
          "metadata": {},
          "execution_count": 14
        }
      ]
    },
    {
      "cell_type": "code",
      "source": [
        "oee(16, 15, 100, 5, 5, 'quality')"
      ],
      "metadata": {
        "colab": {
          "base_uri": "https://localhost:8080/"
        },
        "id": "Jt-XA6s0KZaz",
        "outputId": "93da3589-a320-48c4-cf75-c0433505392e"
      },
      "execution_count": null,
      "outputs": [
        {
          "output_type": "execute_result",
          "data": {
            "text/plain": [
              "0.05"
            ]
          },
          "metadata": {},
          "execution_count": 15
        }
      ]
    },
    {
      "cell_type": "code",
      "source": [
        "oee(16, 15, 100, 5, 5)"
      ],
      "metadata": {
        "colab": {
          "base_uri": "https://localhost:8080/"
        },
        "id": "V1GvLri6EvVF",
        "outputId": "b01d2041-15b3-41f8-c2d0-d74324fbb191"
      },
      "execution_count": null,
      "outputs": [
        {
          "output_type": "execute_result",
          "data": {
            "text/plain": [
              "1.666666666666667"
            ]
          },
          "metadata": {},
          "execution_count": 16
        }
      ]
    },
    {
      "cell_type": "markdown",
      "source": [
        "**SIX SIGMA**"
      ],
      "metadata": {
        "id": "jsUgWqmvOUn4"
      }
    },
    {
      "cell_type": "code",
      "source": [
        "six_sigma(1,50,200000) #(defects, opportunities, units)"
      ],
      "metadata": {
        "colab": {
          "base_uri": "https://localhost:8080/"
        },
        "id": "tCGU77jtJVGZ",
        "outputId": "f8607796-76e4-448b-c1f7-2c9e8b96188a"
      },
      "execution_count": null,
      "outputs": [
        {
          "output_type": "execute_result",
          "data": {
            "text/plain": [
              "(0.09999999999999999, 6)"
            ]
          },
          "metadata": {},
          "execution_count": 17
        }
      ]
    },
    {
      "cell_type": "markdown",
      "source": [],
      "metadata": {
        "id": "o3qtT6iWGq-5"
      }
    },
    {
      "cell_type": "markdown",
      "source": [
        "# Rascunhos"
      ],
      "metadata": {
        "id": "bB43Kh1nGseJ"
      }
    },
    {
      "cell_type": "markdown",
      "source": [
        "Função de Cálculo de Lead Time: O lead time é o tempo total que leva desde o início até a conclusão de um processo de engenharia, fabricação ou PCP. Esta função poderia aceitar vários parâmetros relacionados ao processo e calcular o lead time.\n",
        "Função de Análise de Valor Agregado (EVA): A Análise de Valor Agregado é uma técnica utilizada para monitorar o custo e o cronograma de um projeto e pode ser muito útil na engenharia e no PCP.\n",
        "Função de Cálculo de Tempo de Ciclo: O tempo de ciclo é o tempo total necessário para completar um processo de produção ou operação do início ao fim. Esta função poderia ajudar a otimizar os processos de produção.\n",
        "Função de Cálculo de Taxa de Defeitos: Esta função poderia analisar os dados de produção e calcular a taxa de defeitos, o que é crucial para a melhoria contínua na manufatura.\n",
        "Função de Planejamento de Capacidade (CRP): Uma função que ajuda a avaliar a capacidade necessária em um departamento ou estação de trabalho durante um período de tempo específico com base na demanda prevista e nos tempos de ciclo."
      ],
      "metadata": {
        "id": "2tsuoH2GOL0f"
      }
    },
    {
      "cell_type": "markdown",
      "source": [
        "------------\n"
      ],
      "metadata": {
        "id": "AF2bRG2XIZci"
      }
    },
    {
      "cell_type": "markdown",
      "source": [
        "Olá! Claro, eu posso te ajudar com isso. Aqui estão os passos básicos para publicar uma nova biblioteca Python no PyPi:\n",
        "\n",
        "Crie sua biblioteca: Primeiro, você precisa ter uma biblioteca para publicar. Certifique-se de que seu código está bem organizado, documentado e segue as melhores práticas de codificação.\n",
        "Setup.py: Crie um arquivo setup.py na raiz do seu projeto. Este arquivo contém detalhes sobre sua biblioteca, como nome, versão, descrição, autor, etc.\n",
        "Python\n",
        "\n",
        "from setuptools import setup, find_packages\n",
        "\n",
        "setup(\n",
        "    name='Nome da sua biblioteca',\n",
        "    version='0.1',\n",
        "    url='URL do seu projeto',\n",
        "    author='Seu nome',\n",
        "    author_email='Seu email',\n",
        "    description='Descrição da sua biblioteca',\n",
        "    packages=find_packages(),    \n",
        "    install_requires=[],  # Lista de dependências do projeto\n",
        ")\n",
        "Código gerado por IA. Examine e use com cuidado. Mais informações em perguntas frequentes.\n",
        "README.md: Crie um arquivo README.md para fornecer uma descrição detalhada de sua biblioteca, como usá-la, etc.\n",
        "Arquivo .pypirc: Crie um arquivo .pypirc em sua pasta inicial (~/.pypirc no Linux/Mac, C:\\\\Users\\\\USERNAME\\\\.pypirc no Windows). Este arquivo armazena as configurações do PyPi.\n",
        "[distutils]\n",
        "index-servers =\n",
        "  pypi\n",
        "  pypitest\n",
        "\n",
        "[pypi]\n",
        "username:seu_nome_de_usuário\n",
        "password:sua_senha\n",
        "\n",
        "[pypitest]\n",
        "username:seu_nome_de_usuário\n",
        "password:sua_senha\n",
        "\n",
        "Gere a distribuição: Agora você pode gerar a distribuição de sua biblioteca usando o seguinte comando:\n",
        "python setup.py sdist bdist_wheel\n",
        "\n",
        "Publique no PyPi: Finalmente, você pode publicar sua biblioteca no PyPi usando o seguinte comando:\n",
        "twine upload dist/*\n",
        "\n",
        "Lembre-se de substituir os valores de espaço reservado pelos detalhes reais do seu projeto. Espero que isso ajude! Se você tiver mais perguntas, fique à vontade para perguntar. 😊\n",
        "\n",
        "Você\n",
        "Me de mais detalhes do processo de confirmar que meu projeto está bem organizado, documentado e segue as melhores práticas de codificação. Crie o melhor checklist para eu confirmar essas premissas\n",
        "Copilot\n",
        "Usando\n",
        "a web\n",
        "Claro, aqui está um checklist detalhado para garantir que seu projeto Python esteja bem organizado, documentado e siga as melhores práticas de codificação:\n",
        "\n",
        "Estrutura do Projeto: Seu projeto deve ter uma estrutura clara e fácil de entender. Aqui está uma estrutura de projeto Python típica:\n",
        "/nome_do_projeto\n",
        "    /nome_do_projeto\n",
        "        __init__.py\n",
        "        module1.py\n",
        "        module2.py\n",
        "    /tests\n",
        "        __init__.py\n",
        "        test_module1.py\n",
        "        test_module2.py\n",
        "    setup.py\n",
        "    README.md\n",
        "    LICENSE\n",
        "    .gitignore\n",
        "\n",
        "Código Limpo: Seu código deve ser fácil de ler e entender. Siga as diretrizes do PEP 8, a convenção de estilo oficial do Python.\n",
        "Documentação: Cada módulo, classe, método e função deve ter uma docstring descrevendo o que ele faz. Use ferramentas como Sphinx para gerar automaticamente a documentação a partir de suas docstrings.\n",
        "Testes: Você deve ter testes para cada parte do seu código. Use um framework de teste como pytest ou unittest.\n",
        "Gerenciamento de Dependências: Liste todas as dependências do seu projeto no setup.py ou em um arquivo requirements.txt.\n",
        "Controle de Versão: Use um sistema de controle de versão, como Git, para rastrear as alterações no seu código ao longo do tempo.\n",
        "Licença: Inclua um arquivo de licença em seu projeto para informar aos usuários como eles podem usar seu código.\n",
        "README: Seu arquivo README deve fornecer informações básicas sobre o projeto, como o que ele faz, como instalá-lo e usá-lo, e como contribuir.\n",
        "Continuous Integration/Continuous Deployment (CI/CD): Use ferramentas de CI/CD, como Jenkins ou Travis CI, para automatizar o teste e a implantação de seu código.\n",
        "Código Seguro: Verifique se o seu código não tem vulnerabilidades de segurança. Use ferramentas como Bandit para verificar automaticamente o seu código Python em busca de problemas de segurança comuns.\n",
        "Espero que isso ajude! Se você tiver mais perguntas, fique à vontade para perguntar. 😊\n",
        "\n",
        "Você\n",
        "voce pode me passar um exemplo de uma biblioteca que seja simples de codigo mas completa atenda os requisitos acima para eu usar como benchmarking? Queria o link de do Pypi e do github\n",
        "Copilot\n",
        "Usando\n",
        "a web\n",
        "Claro! Um bom exemplo de uma biblioteca Python que é simples, mas completa e bem organizada é a biblioteca talk-in-code. Ela foi desenvolvida por Itanú Romero e é uma biblioteca que transforma linguagem natural em código Python1.\n",
        "\n",
        "Você pode encontrar o código-fonte da biblioteca no GitHub para referência2. A biblioteca também está disponível no PyPi para instalação3.\n",
        "\n",
        "Espero que isso ajude! Se você tiver mais perguntas, fique à vontade para perguntar. 😊"
      ],
      "metadata": {
        "id": "s9rlNmUEHOtp"
      }
    },
    {
      "cell_type": "markdown",
      "source": [
        "6 sigma"
      ],
      "metadata": {
        "id": "--6AyXvVOM80"
      }
    }
  ]
}